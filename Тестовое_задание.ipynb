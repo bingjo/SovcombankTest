{
  "nbformat": 4,
  "nbformat_minor": 0,
  "metadata": {
    "colab": {
      "provenance": []
    },
    "kernelspec": {
      "name": "python3",
      "display_name": "Python 3"
    },
    "language_info": {
      "name": "python"
    }
  },
  "cells": [
    {
      "cell_type": "markdown",
      "source": [
        "## Задача 1 - Долевое строительство\n",
        "\n",
        "Алгоритм: для каждого i из списка вычисляется его отношение к сумме всех i\n",
        "\n",
        "Сложность алгоритма: O(2n) -> O(n) (Линейная)\n",
        "\n",
        "Оценка памяти: O(n)\n",
        "\n",
        "Ограничение на размер входных данных: N <= 10^7\n",
        "\n",
        "Субъективная оценка сложности: 1 из 10"
      ],
      "metadata": {
        "id": "K5_B6q01swwT"
      }
    },
    {
      "cell_type": "code",
      "source": [
        "def get_percent(values: list) -> list:\n",
        "  \"\"\" Получение % из долей \"\"\"\n",
        "  sum_v = sum(values)\n",
        "  percent = [v / sum_v for v in values]\n",
        "  return percent"
      ],
      "metadata": {
        "id": "HPW0Z2CjquOz"
      },
      "execution_count": null,
      "outputs": []
    },
    {
      "cell_type": "code",
      "source": [
        "\"\"\"\n",
        "# Входные данные для теста\n",
        "\n",
        "num = 4\n",
        "parts = [1.5, 3.0, 6.0, 1.5]\n",
        "\"\"\""
      ],
      "metadata": {
        "id": "IeJe-c4Mf-n0"
      },
      "execution_count": null,
      "outputs": []
    },
    {
      "cell_type": "code",
      "execution_count": null,
      "metadata": {
        "id": "qXIvWK2mo4L3"
      },
      "outputs": [],
      "source": [
        "# Получение входных данных\n",
        "try:\n",
        "  num = int(input())\n",
        "  parts = []\n",
        "  for n in range(num):\n",
        "    parts.append(float(input()))\n",
        "except Exception as exp:\n",
        "  raise Exception(f'При вводе данных произошла ошибка:\\n{exp}')"
      ]
    },
    {
      "cell_type": "code",
      "source": [
        "# Вывод результата\n",
        "parts_percent = get_percent(parts)\n",
        "for p in parts_percent:\n",
        "  print(format(p, '.3f'))"
      ],
      "metadata": {
        "id": "FHYimnJHqBh4"
      },
      "execution_count": null,
      "outputs": []
    },
    {
      "cell_type": "markdown",
      "source": [
        "## Задача 2 - Мегатрейдер\n",
        "\n",
        "Алгоритм: Перебор всех комбинаций лотов, на которые хватает бюджета S. Выбор комбинации с наибольшим доходом. N <= 30.\n",
        "\n",
        "Сложность алгоритма: 2^n (Экспоненциальная)\n",
        "\n",
        "Оценка памяти: O(n)\n",
        "\n",
        "Ограничение на размер входных данных: кол-во лотов <= 25\n",
        "\n",
        "Субъективная оценка сложности: 3 из 10"
      ],
      "metadata": {
        "id": "vPFC0StObUjH"
      }
    },
    {
      "cell_type": "code",
      "source": [
        "from itertools import chain, combinations"
      ],
      "metadata": {
        "id": "L1ddQX4rQJNw"
      },
      "execution_count": null,
      "outputs": []
    },
    {
      "cell_type": "code",
      "source": [
        "def powerset(lots: list) -> list:\n",
        "  \"\"\" Получение всех комбинаций лотов \"\"\"\n",
        "  lots_ind = range(len(lots))\n",
        "  permutations = chain.from_iterable(\n",
        "      combinations(lots_ind, r) for r in range(len(lots_ind)+1))\n",
        "  return list(permutations)[1:]"
      ],
      "metadata": {
        "id": "j7v1dCkZT-z8"
      },
      "execution_count": null,
      "outputs": []
    },
    {
      "cell_type": "code",
      "source": [
        "def get_income(lot: list, price: float, N=30, P=1000) -> float:\n",
        "  \"\"\" Получение дохода от лота \"\"\"\n",
        "  coupons = lot[3] * N\n",
        "  bonds = lot[3] * P\n",
        "  income = (bonds + coupons) - price\n",
        "  return income"
      ],
      "metadata": {
        "id": "S-NFTnCcXgH5"
      },
      "execution_count": null,
      "outputs": []
    },
    {
      "cell_type": "code",
      "source": [
        "\"\"\"\n",
        "Входные данные для теста\n",
        "\n",
        "n = 2\n",
        "m = 2\n",
        "s = 8000\n",
        "\n",
        "input_lots = [\n",
        "    [1, 'alfa-05', 100.2, 2],\n",
        "    [2, 'alfa-05', 101.5, 5],\n",
        "    [2, 'alfa-05', 100.0, 2],\n",
        "]\n",
        "\"\"\""
      ],
      "metadata": {
        "id": "W10ir2DYPNzh"
      },
      "execution_count": null,
      "outputs": []
    },
    {
      "cell_type": "code",
      "source": [
        "# Получение входных данных\n",
        "try:\n",
        "  inputs_str = input().split(' ')\n",
        "  n = int(inputs_str[0])\n",
        "  m = int(inputs_str[1])\n",
        "  s = float(inputs_str[2])\n",
        "\n",
        "  input_lots = []\n",
        "\n",
        "  while True:\n",
        "    input_lot = input()\n",
        "    if len(input_lot) < 1:\n",
        "      break\n",
        "    input_lot = input_lot.split(' ')\n",
        "    day_lot = int(input_lot[0])\n",
        "    name_lot = input_lot[1]\n",
        "    price_lot = float(input_lot[2])\n",
        "    count_lot = int(input_lot[3])\n",
        "    input_lots.append([day_lot, name_lot, price_lot, count_lot])\n",
        "except Exception as exp:\n",
        "  raise Exception(f'При вводе данных произошла ошибка:\\n{exp}')"
      ],
      "metadata": {
        "id": "NPBv3lBedun2"
      },
      "execution_count": null,
      "outputs": []
    },
    {
      "cell_type": "code",
      "source": [
        "# Сумма покупки по каждой позиции\n",
        "lots_sum = {i: round((l[2] / 100) * 1000 * l[3]) for i, l in enumerate(input_lots)}\n",
        "# Получение всех комбинайций лотов, которые можно купить на бюджет S\n",
        "lots_permutations = powerset(input_lots)\n",
        "lots_permutations = [\n",
        "    per for per in lots_permutations if sum([lots_sum[v] for v in per]) <= s]\n",
        "\n",
        "# Данные для вывода\n",
        "max_income_sum = 0\n",
        "better_lots = None"
      ],
      "metadata": {
        "id": "1v51EMJlPN2R"
      },
      "execution_count": null,
      "outputs": []
    },
    {
      "cell_type": "code",
      "source": [
        "# Получение доходов по всем комбинациям лотов\n",
        "for lots in lots_permutations:\n",
        "  income_permutations = 0\n",
        "  for ind_lot in lots:\n",
        "    income_permutations += get_income(input_lots[ind_lot], lots_sum[ind_lot])\n",
        "  if income_permutations > max_income_sum:\n",
        "    max_income_sum = income_permutations\n",
        "    better_lots = lots"
      ],
      "metadata": {
        "id": "u0HB4eoGPN-5"
      },
      "execution_count": null,
      "outputs": []
    },
    {
      "cell_type": "code",
      "source": [
        "# Вывод результата\n",
        "if better_lots is None:\n",
        "  print('Не удалось получить лучшее предложение\\n')\n",
        "else:\n",
        "  print(max_income_sum)\n",
        "  for l in better_lots:\n",
        "    print(' '.join(str(i) for i in input_lots[l]))\n",
        "  print('\\n')"
      ],
      "metadata": {
        "id": "FKSd7s4Bcd7l"
      },
      "execution_count": null,
      "outputs": []
    }
  ]
}